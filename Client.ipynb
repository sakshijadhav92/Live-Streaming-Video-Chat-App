{
 "cells": [
  {
   "cell_type": "code",
   "execution_count": 1,
   "metadata": {},
   "outputs": [],
   "source": [
    "import numpy as n\n",
    "import cv2\n",
    "import socket,pickle"
   ]
  },
  {
   "cell_type": "code",
   "execution_count": 2,
   "metadata": {},
   "outputs": [],
   "source": [
    "#Video Socket\n",
    "s = socket.socket(socket.AF_INET, socket.SOCK_DGRAM) # address family and udp\n",
    "host = 'IP'\n",
    "port = 2222"
   ]
  },
  {
   "cell_type": "code",
   "execution_count": 3,
   "metadata": {},
   "outputs": [],
   "source": [
    "#Video\n",
    "cap = cv2.VideoCapture(0)\n",
    "while True:\n",
    "    ret, photo = cap.read()\n",
    "    ret, buffer = cv2.imencode(\".jpg\", photo, [int(cv2.IMWRITE_JPEG_QUALITY),30])\n",
    "    x_as_bytes = pickle.dumps(buffer)\n",
    "    s.sendto(x_as_bytes,(host , port))\n",
    "    cv2.imshow('Client',photo)\n",
    "    if cv2.waitKey(10) == 13:\n",
    "        break\n",
    "        \n",
    "cv2.destroyAllWindows()\n",
    "cap.release()"
   ]
  },
  {
   "cell_type": "code",
   "execution_count": null,
   "metadata": {},
   "outputs": [],
   "source": []
  }
 ],
 "metadata": {
  "kernelspec": {
   "display_name": "Python 3",
   "language": "python",
   "name": "python3"
  },
  "language_info": {
   "codemirror_mode": {
    "name": "ipython",
    "version": 3
   },
   "file_extension": ".py",
   "mimetype": "text/x-python",
   "name": "python",
   "nbconvert_exporter": "python",
   "pygments_lexer": "ipython3",
   "version": "3.8.8"
  }
 },
 "nbformat": 4,
 "nbformat_minor": 4
}
